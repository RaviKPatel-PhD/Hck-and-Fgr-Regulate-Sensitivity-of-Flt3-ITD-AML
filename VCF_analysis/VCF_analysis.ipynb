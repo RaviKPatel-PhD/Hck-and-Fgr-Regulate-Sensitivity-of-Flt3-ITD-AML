{
 "cells": [
  {
   "cell_type": "code",
   "execution_count": 1,
   "metadata": {},
   "outputs": [],
   "source": [
    "# Imports for this analysis\n",
    "import pandas as pd\n",
    "import numpy as np\n",
    "import matplotlib.pyplot as plt\n",
    "import seaborn as sns"
   ]
  },
  {
   "cell_type": "code",
   "execution_count": 2,
   "metadata": {},
   "outputs": [
    {
     "name": "stderr",
     "output_type": "stream",
     "text": [
      "C:\\Program Files\\Anaconda3\\lib\\site-packages\\IPython\\core\\interactiveshell.py:2728: DtypeWarning: Columns (0,1) have mixed types. Specify dtype option on import or set low_memory=False.\n",
      "  interactivity=interactivity, compiler=compiler, result=result)\n"
     ]
    }
   ],
   "source": [
    "# Load all the dataframes\n",
    "MV411         = pd.read_csv('Ravi_SNPs_for_MV4-11_annotated.csv', header=117)\n",
    "MV411R2       = pd.read_csv('Ravi_SNPs_for_MV411R2_annotated.csv', header=117)\n",
    "MV411R3       = pd.read_csv('Ravi_SNPs_for_MV411R3_annotated.csv', header=117)\n",
    "Molm13        = pd.read_csv('Ravi_SNPs_for_Molm13_annotated.csv', header=117)\n",
    "Molm13R3      = pd.read_csv('Ravi_SNPs_for_Molm13R3_annotated.csv', header=117)\n",
    "Molm14        = pd.read_csv('Ravi_SNPs_for_Molm14_annotated.csv', header=117)\n",
    "Molm14R1      = pd.read_csv('Ravi_SNPs_for_Molm14R1_annotated.csv', header=117)\n",
    "Molm14R2      = pd.read_csv('Ravi_SNPs_for_Molm14R2_annotated.csv', header=117)\n",
    "Molm14R3      = pd.read_csv('Ravi_SNPs_for_Molm14R3_annotated.csv', header=117)\n",
    "Molm14AC220R3 = pd.read_csv('Ravi_SNPs_for_Molm14AC220R3_annotated.csv', header=117)\n",
    "\n",
    "# MV411R2 has some missing values so we can drop those, this is only ~6 rows total\n",
    "MV411R2.dropna(inplace=True)"
   ]
  },
  {
   "cell_type": "code",
   "execution_count": 3,
   "metadata": {},
   "outputs": [],
   "source": [
    "# Make an descriptive index column for each dataframe.\n",
    "\n",
    "data = [MV411, MV411R2, MV411R3, Molm13, Molm13R3, Molm14, Molm14R1, Molm14R2, Molm14R3, Molm14AC220R3]\n",
    "\n",
    "for dat in data: \n",
    "    dat['index']='chr'+dat['#CHROM'].astype(str)+'_'+dat['POS'].astype(str)+'_'+dat['REF'].astype(str)+'>'+dat['ALT'].astype(str)\n",
    "    dat.set_index('index', inplace=True)\n",
    "    dat.drop(columns=['#CHROM','POS','REF','ALT'], axis = 1, inplace=True)"
   ]
  },
  {
   "cell_type": "code",
   "execution_count": 4,
   "metadata": {},
   "outputs": [],
   "source": [
    "# Find out the mutations that occur in both the parent and resistant cell line\n",
    "\n",
    "mv411r2merge = MV411.index.intersection(MV411R2.index)\n",
    "mv411r3merge = MV411.index.intersection(MV411R3.index)\n",
    "molm13r3merge = Molm13.index.intersection(Molm13R3.index)\n",
    "molm14r1merge = Molm14.index.intersection(Molm14R1.index)\n",
    "molm14r2merge = Molm14.index.intersection(Molm14R2.index)\n",
    "molm14r3merge = Molm14.index.intersection(Molm14R3.index)\n",
    "molm14ac220r3merge = Molm14.index.intersection(Molm14AC220R3.index)"
   ]
  },
  {
   "cell_type": "code",
   "execution_count": 5,
   "metadata": {},
   "outputs": [
    {
     "name": "stdout",
     "output_type": "stream",
     "text": [
      "MV4-11 has 48249 mutations and MV4-11_R2 has 46939 mutations relative to HG37. 16435 of the mutations overlap, \n",
      "so MV4-11_R2 has 30504 unique mutations\n",
      "MV4-11 has 48249 mutations and MV4-11_R3 has 41743 mutations relative to HG37. 22719 of the mutations overlap, \n",
      "so MV4-11_R3 has 19024 unique mutations\n",
      "Molm13 has 47891 mutations and Molm13_R3 has 57578 mutations relative to HG37. 27064 of the mutations overlap, \n",
      "so Molm13_R3 has 30514 unique mutations\n",
      "Molm14 has 48669 mutations and Molm14_R1 has 49055 mutations relative to HG37. 25525 of the mutations overlap, \n",
      "so Molm14_R1 has 23530 unique mutations\n",
      "Molm14 has 48669 mutations and Molm14_R2 has 50160 mutations relative to HG37. 25418 of the mutations overlap, \n",
      "so Molm14_R2 has 24742 unique mutations\n",
      "Molm14 has 48669 mutations and Molm14_R3 has 345918 mutations relative to HG37. 26101 of the mutations overlap, \n",
      "so Molm14_R3 has 319817 unique mutations\n",
      "Molm14 has 48669 mutations and Molm14_ac220_R3 has 45744 mutations relative to HG37. 23753 of the mutations overlap, \n",
      "so Molm14_ac220_R3 has 21991 unique mutations\n"
     ]
    }
   ],
   "source": [
    "# Print out the values of the intersection between the parent and resistant cell lines.\n",
    "\n",
    "print(\"\"\"{0} has {1} mutations and {2} has {3} mutations relative to HG37. {4} of the mutations overlap, \n",
    "so {2} has {5} unique mutations\"\"\".format(\n",
    "    'MV4-11', len(MV411.index), 'MV4-11_R2', len(MV411R2.index), len(mv411r2merge), (len(MV411R2.index)-len(mv411r2merge))))\n",
    "print(\"\"\"{0} has {1} mutations and {2} has {3} mutations relative to HG37. {4} of the mutations overlap, \n",
    "so {2} has {5} unique mutations\"\"\".format(\n",
    "    'MV4-11', len(MV411.index), 'MV4-11_R3', len(MV411R3.index), len(mv411r3merge), (len(MV411R3.index)-len(mv411r3merge))))\n",
    "print(\"\"\"{0} has {1} mutations and {2} has {3} mutations relative to HG37. {4} of the mutations overlap, \n",
    "so {2} has {5} unique mutations\"\"\".format(\n",
    "    'Molm13', len(Molm13.index), 'Molm13_R3', len(Molm13R3.index), len(molm13r3merge), (len(Molm13R3.index)-len(molm13r3merge))))\n",
    "print(\"\"\"{0} has {1} mutations and {2} has {3} mutations relative to HG37. {4} of the mutations overlap, \n",
    "so {2} has {5} unique mutations\"\"\".format(\n",
    "    'Molm14', len(Molm14.index), 'Molm14_R1', len(Molm14R1.index), len(molm14r1merge), (len(Molm14R1.index)-len(molm14r1merge))))\n",
    "print(\"\"\"{0} has {1} mutations and {2} has {3} mutations relative to HG37. {4} of the mutations overlap, \n",
    "so {2} has {5} unique mutations\"\"\".format(\n",
    "    'Molm14', len(Molm14.index), 'Molm14_R2', len(Molm14R2.index), len(molm14r2merge), (len(Molm14R2.index)-len(molm14r2merge))))\n",
    "print(\"\"\"{0} has {1} mutations and {2} has {3} mutations relative to HG37. {4} of the mutations overlap, \n",
    "so {2} has {5} unique mutations\"\"\".format(\n",
    "    'Molm14', len(Molm14.index), 'Molm14_R3', len(Molm14R3.index), len(molm14r3merge), (len(Molm14R3.index)-len(molm14r3merge))))\n",
    "print(\"\"\"{0} has {1} mutations and {2} has {3} mutations relative to HG37. {4} of the mutations overlap, \n",
    "so {2} has {5} unique mutations\"\"\".format(\n",
    "    'Molm14', len(Molm14.index), 'Molm14_ac220_R3', len(Molm14AC220R3.index), len(molm14ac220r3merge), (len(Molm14AC220R3.index)-len(molm14ac220r3merge))))\n"
   ]
  },
  {
   "cell_type": "code",
   "execution_count": 6,
   "metadata": {},
   "outputs": [
    {
     "data": {
      "text/plain": [
       "(array([0, 1, 2, 3, 4, 5, 6]), <a list of 7 Text xticklabel objects>)"
      ]
     },
     "execution_count": 6,
     "metadata": {},
     "output_type": "execute_result"
    },
    {
     "data": {
      "image/png": "[encoded data removed]",
      "text/plain": [
       "<Figure size 432x432 with 1 Axes>"
      ]
     },
     "metadata": {},
     "output_type": "display_data"
    }
   ],
   "source": [
    "# Make a dataframe to plot\n",
    "d = {'Cell Line':['MV4-11 R2', 'MV4-11 R3', 'Molm13 R3', 'Molm14 R1', 'Molm14 R2', 'Molm14 R3', 'Molm14 AC220 R3'],\n",
    "    'Unique Mutations':[30504, 19024, 30514, 23530, 24742, 319817, 21991]}\n",
    "df = pd.DataFrame(d)\n",
    "\n",
    "# Plot usining sns borplot\n",
    "plt.figure(figsize=(6,6))\n",
    "sns.barplot(x = 'Cell Line', y='Unique Mutations', data=df)\n",
    "plt.xticks(rotation='vertical')"
   ]
  },
  {
   "cell_type": "code",
   "execution_count": 7,
   "metadata": {},
   "outputs": [
    {
     "data": {
      "text/plain": [
       "(array([0, 1, 2, 3, 4, 5]), <a list of 6 Text xticklabel objects>)"
      ]
     },
     "execution_count": 7,
     "metadata": {},
     "output_type": "execute_result"
    },
    {
     "data": {
      "image/png": "[encoded data removed]",
      "text/plain": [
       "<Figure size 432x432 with 1 Axes>"
      ]
     },
     "metadata": {},
     "output_type": "display_data"
    }
   ],
   "source": [
    "# Note I left out Molm14 R3 here because it was sequenced to 10X the depth of all the other cell lines, \n",
    "# therefore the number of mutation in that cell line is probably not an accurate representation of the number of mutations\n",
    "d = {'Cell Line':['MV4-11 R2', 'MV4-11 R3', 'Molm13 R3', 'Molm14 R1', 'Molm14 R2', 'Molm14 AC220 R3'],\n",
    "    'Unique Mutations':[30504, 19024, 30514, 23530, 24742, 21991]}\n",
    "df = pd.DataFrame(d)\n",
    "\n",
    "# Plot usining sns borplot\n",
    "plt.figure(figsize=(6,6))\n",
    "sns.barplot(x = 'Cell Line', y='Unique Mutations', data=df)\n",
    "plt.xticks(rotation='vertical')"
   ]
  },
  {
   "cell_type": "code",
   "execution_count": 8,
   "metadata": {},
   "outputs": [
    {
     "name": "stdout",
     "output_type": "stream",
     "text": [
      "Each cell line has on average 25050.833333333332 unique mutations, with a standard deviation of 4236.288250212548\n"
     ]
    }
   ],
   "source": [
    "print('Each cell line has on average {} unique mutations, with a standard deviation of {}'.format(np.mean(df['Unique Mutations']), np.std(df['Unique Mutations'])))"
   ]
  },
  {
   "cell_type": "code",
   "execution_count": 9,
   "metadata": {},
   "outputs": [
    {
     "name": "stdout",
     "output_type": "stream",
     "text": [
      "MV4-11 has 33169 mutations and MV4-11_R2 has 32048 mutations relative to HG37. 11783 of the mutations overlap, \n",
      "so MV4-11_R2 has 20265 unique mutations\n",
      "MV4-11 has 33169 mutations and MV4-11_R3 has 29169 mutations relative to HG37. 17159 of the mutations overlap, \n",
      "so MV4-11_R3 has 12010 unique mutations\n",
      "Molm13 has 32732 mutations and Molm13_R3 has 39728 mutations relative to HG37. 20316 of the mutations overlap, \n",
      "so Molm13_R3 has 19412 unique mutations\n",
      "Molm14 has 33291 mutations and Molm14_R1 has 33720 mutations relative to HG37. 19088 of the mutations overlap, \n",
      "so Molm14_R1 has 14632 unique mutations\n",
      "Molm14 has 33291 mutations and Molm14_R2 has 33877 mutations relative to HG37. 18960 of the mutations overlap, \n",
      "so Molm14_R2 has 14917 unique mutations\n",
      "Molm14 has 33291 mutations and Molm14_R3 has 152681 mutations relative to HG37. 18928 of the mutations overlap, \n",
      "so Molm14_R3 has 133753 unique mutations\n",
      "Molm14 has 33291 mutations and Molm14_ac220_R3 has 30722 mutations relative to HG37. 17532 of the mutations overlap, \n",
      "so Molm14_ac220_R3 has 13190 unique mutations\n"
     ]
    }
   ],
   "source": [
    "# Get on the protein-coding mutations from each cell line\n",
    "MV411=MV411[MV411['INFO'].str.contains('protein_coding', na=False)]\n",
    "MV411R2=MV411R2[MV411R2['INFO'].str.contains('protein_coding', na=False)]\n",
    "MV411R3=MV411R3[MV411R3['INFO'].str.contains('protein_coding', na=False)]\n",
    "Molm13=Molm13[Molm13['INFO'].str.contains('protein_coding', na=False)]\n",
    "Molm13R3=Molm13R3[Molm13R3['INFO'].str.contains('protein_coding', na=False)]\n",
    "Molm14=Molm14[Molm14['INFO'].str.contains('protein_coding', na=False)]\n",
    "Molm14R1=Molm14R1[Molm14R1['INFO'].str.contains('protein_coding', na=False)]\n",
    "Molm14R2=Molm14R2[Molm14R2['INFO'].str.contains('protein_coding', na=False)]\n",
    "Molm14R3=Molm14R3[Molm14R3['INFO'].str.contains('protein_coding', na=False)]\n",
    "Molm14AC220R3=Molm14AC220R3[Molm14AC220R3['INFO'].str.contains('protein_coding', na=False)]\n",
    "    \n",
    "# Find out the protein-coding mutations that occur in both the parent and resistant cell line\n",
    "mv411r2merge = MV411.index.intersection(MV411R2.index)\n",
    "mv411r3merge = MV411.index.intersection(MV411R3.index)\n",
    "molm13r3merge = Molm13.index.intersection(Molm13R3.index)\n",
    "molm14r1merge = Molm14.index.intersection(Molm14R1.index)\n",
    "molm14r2merge = Molm14.index.intersection(Molm14R2.index)\n",
    "molm14r3merge = Molm14.index.intersection(Molm14R3.index)\n",
    "molm14ac220r3merge = Molm14.index.intersection(Molm14AC220R3.index)\n",
    "\n",
    "# Print out the values of the intersection between the parent and resistant cell lines.\n",
    "print(\"\"\"{0} has {1} mutations and {2} has {3} mutations relative to HG37. {4} of the mutations overlap, \n",
    "so {2} has {5} unique mutations\"\"\".format(\n",
    "    'MV4-11', len(MV411.index), 'MV4-11_R2', len(MV411R2.index), len(mv411r2merge), (len(MV411R2.index)-len(mv411r2merge))))\n",
    "print(\"\"\"{0} has {1} mutations and {2} has {3} mutations relative to HG37. {4} of the mutations overlap, \n",
    "so {2} has {5} unique mutations\"\"\".format(\n",
    "    'MV4-11', len(MV411.index), 'MV4-11_R3', len(MV411R3.index), len(mv411r3merge), (len(MV411R3.index)-len(mv411r3merge))))\n",
    "print(\"\"\"{0} has {1} mutations and {2} has {3} mutations relative to HG37. {4} of the mutations overlap, \n",
    "so {2} has {5} unique mutations\"\"\".format(\n",
    "    'Molm13', len(Molm13.index), 'Molm13_R3', len(Molm13R3.index), len(molm13r3merge), (len(Molm13R3.index)-len(molm13r3merge))))\n",
    "print(\"\"\"{0} has {1} mutations and {2} has {3} mutations relative to HG37. {4} of the mutations overlap, \n",
    "so {2} has {5} unique mutations\"\"\".format(\n",
    "    'Molm14', len(Molm14.index), 'Molm14_R1', len(Molm14R1.index), len(molm14r1merge), (len(Molm14R1.index)-len(molm14r1merge))))\n",
    "print(\"\"\"{0} has {1} mutations and {2} has {3} mutations relative to HG37. {4} of the mutations overlap, \n",
    "so {2} has {5} unique mutations\"\"\".format(\n",
    "    'Molm14', len(Molm14.index), 'Molm14_R2', len(Molm14R2.index), len(molm14r2merge), (len(Molm14R2.index)-len(molm14r2merge))))\n",
    "print(\"\"\"{0} has {1} mutations and {2} has {3} mutations relative to HG37. {4} of the mutations overlap, \n",
    "so {2} has {5} unique mutations\"\"\".format(\n",
    "    'Molm14', len(Molm14.index), 'Molm14_R3', len(Molm14R3.index), len(molm14r3merge), (len(Molm14R3.index)-len(molm14r3merge))))\n",
    "print(\"\"\"{0} has {1} mutations and {2} has {3} mutations relative to HG37. {4} of the mutations overlap, \n",
    "so {2} has {5} unique mutations\"\"\".format(\n",
    "    'Molm14', len(Molm14.index), 'Molm14_ac220_R3', len(Molm14AC220R3.index), len(molm14ac220r3merge), (len(Molm14AC220R3.index)-len(molm14ac220r3merge))))"
   ]
  },
  {
   "cell_type": "code",
   "execution_count": 10,
   "metadata": {},
   "outputs": [
    {
     "data": {
      "text/plain": [
       "(array([0, 1, 2, 3, 4, 5, 6]), <a list of 7 Text xticklabel objects>)"
      ]
     },
     "execution_count": 10,
     "metadata": {},
     "output_type": "execute_result"
    },
    {
     "data": {
      "image/png": "[encoded data removed]",
      "text/plain": [
       "<Figure size 432x432 with 1 Axes>"
      ]
     },
     "metadata": {},
     "output_type": "display_data"
    }
   ],
   "source": [
    "# Make a dataframe to plot\n",
    "d = {'Cell Line':['MV4-11 R2', 'MV4-11 R3', 'Molm13 R3', 'Molm14 R1', 'Molm14 R2', 'Molm14 R3', 'Molm14 AC220 R3'],\n",
    "    'Unique Mutations':[20265, 12010, 19412, 14632, 14917, 133753, 13190]}\n",
    "df = pd.DataFrame(d)\n",
    "\n",
    "# Plot usining sns borplot\n",
    "plt.figure(figsize=(6,6))\n",
    "sns.barplot(x = 'Cell Line', y='Unique Mutations', data=df)\n",
    "plt.xticks(rotation='vertical')"
   ]
  },
  {
   "cell_type": "code",
   "execution_count": 11,
   "metadata": {},
   "outputs": [
    {
     "data": {
      "text/plain": [
       "(array([0, 1, 2, 3, 4, 5]), <a list of 6 Text xticklabel objects>)"
      ]
     },
     "execution_count": 11,
     "metadata": {},
     "output_type": "execute_result"
    },
    {
     "data": {
      "image/png": "[encoded data removed]",
      "text/plain": [
       "<Figure size 432x432 with 1 Axes>"
      ]
     },
     "metadata": {},
     "output_type": "display_data"
    }
   ],
   "source": [
    "# Again remove Molm14 R3\n",
    "d = {'Cell Line':['MV4-11 R2', 'MV4-11 R3', 'Molm13 R3', 'Molm14 R1', 'Molm14 R2', 'Molm14 AC220 R3'],\n",
    "    'Unique Mutations':[20265, 12010, 19412, 14632, 14917, 13190]}\n",
    "df = pd.DataFrame(d)\n",
    "\n",
    "# Plot usining sns borplot\n",
    "plt.figure(figsize=(6,6))\n",
    "sns.barplot(x = 'Cell Line', y='Unique Mutations', data=df)\n",
    "plt.xticks(rotation='vertical')"
   ]
  },
  {
   "cell_type": "code",
   "execution_count": 12,
   "metadata": {},
   "outputs": [
    {
     "name": "stdout",
     "output_type": "stream",
     "text": [
      "Each cell line has on average 15737.666666666666 unique protein-coding mutations, with a standard deviation of 3062.666848062685\n"
     ]
    }
   ],
   "source": [
    "print('Each cell line has on average {} unique protein-coding mutations, with a standard deviation of {}'.format(np.mean(df['Unique Mutations']), np.std(df['Unique Mutations'])))"
   ]
  },
  {
   "cell_type": "code",
   "execution_count": null,
   "metadata": {},
   "outputs": [],
   "source": []
  }
 ],
 "metadata": {
  "kernelspec": {
   "display_name": "Python 3",
   "language": "python",
   "name": "python3"
  },
  "language_info": {
   "codemirror_mode": {
    "name": "ipython",
    "version": 3
   },
   "file_extension": ".py",
   "mimetype": "text/x-python",
   "name": "python",
   "nbconvert_exporter": "python",
   "pygments_lexer": "ipython3",
   "version": "3.6.4"
  }
 },
 "nbformat": 4,
 "nbformat_minor": 2
}
